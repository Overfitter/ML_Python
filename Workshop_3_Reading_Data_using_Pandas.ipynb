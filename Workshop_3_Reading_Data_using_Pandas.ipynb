{
 "cells": [
  {
   "cell_type": "markdown",
   "metadata": {
    "collapsed": true
   },
   "source": [
    "## Introduction to Pandas ##\n",
    "We will learn:\n",
    "\n",
    "a) What is a DataFrame?\n",
    "\n",
    "b) How to read data from clipboard to a DataFrame ?\n",
    "\n",
    "c) How to read data from file to a DataFrame ?\n",
    "\n",
    "d) Let's code together - to understand object types."
   ]
  },
  {
   "cell_type": "code",
   "execution_count": null,
   "metadata": {
    "collapsed": false
   },
   "outputs": [],
   "source": [
    "#Remember these will become the standard imports from now on!\n",
    "import numpy as np\n",
    "\n",
    "from pandas import Series,DataFrame\n",
    "import pandas as pd\n"
   ]
  },
  {
   "cell_type": "code",
   "execution_count": null,
   "metadata": {
    "collapsed": false
   },
   "outputs": [],
   "source": [
    "#Now we'll learn DataFrames\n",
    "\n",
    "#Let's get some data to play with. How about the NFL?\n",
    "import webbrowser\n",
    "website = 'http://en.wikipedia.org/wiki/NFL_win-loss_records'\n",
    "webbrowser.open(website)"
   ]
  },
  {
   "cell_type": "code",
   "execution_count": null,
   "metadata": {
    "collapsed": false
   },
   "outputs": [],
   "source": [
    "#Copy and read to get data\n",
    "nfl_frame = pd.read_clipboard()\n",
    "type(nfl_frame)"
   ]
  },
  {
   "cell_type": "code",
   "execution_count": null,
   "metadata": {
    "collapsed": false
   },
   "outputs": [],
   "source": [
    "#Show\n",
    "nfl_frame"
   ]
  },
  {
   "cell_type": "code",
   "execution_count": null,
   "metadata": {
    "collapsed": false
   },
   "outputs": [],
   "source": [
    "# We can grab the column names with .columns\n",
    "nfl_frame.columns"
   ]
  },
  {
   "cell_type": "code",
   "execution_count": null,
   "metadata": {
    "collapsed": false
   },
   "outputs": [],
   "source": [
    "nfl_frame.head(3)"
   ]
  },
  {
   "cell_type": "code",
   "execution_count": null,
   "metadata": {
    "collapsed": false
   },
   "outputs": [],
   "source": [
    "nfl_frame.tail(1)"
   ]
  },
  {
   "cell_type": "markdown",
   "metadata": {},
   "source": [
    "### Read data from a CSV file ###"
   ]
  },
  {
   "cell_type": "code",
   "execution_count": null,
   "metadata": {
    "collapsed": false
   },
   "outputs": [],
   "source": [
    "trainingData = pd.read_csv(\"train.csv\")\n",
    "trainingData.head(3)"
   ]
  },
  {
   "cell_type": "code",
   "execution_count": null,
   "metadata": {
    "collapsed": true
   },
   "outputs": [],
   "source": [
    "# LET'S DO IT TOGETHER:  \n",
    "# a) Try printing out the last 15 values in the trainingData."
   ]
  },
  {
   "cell_type": "code",
   "execution_count": null,
   "metadata": {
    "collapsed": false
   },
   "outputs": [],
   "source": [
    "trainingData.tail(15)"
   ]
  },
  {
   "cell_type": "code",
   "execution_count": null,
   "metadata": {
    "collapsed": false
   },
   "outputs": [],
   "source": [
    "# b) Print the 'PassengerId' column where the PassengerId is less than 10\n",
    "# Hint: DataFrame can accept conditions such as: PassengerId < 10.\n",
    "series = trainingData[\"PassengerId\"] \n",
    "trainingData[series<10]\n",
    "\n",
    "trainingData[trainingData[\"PassengerId\"] <10]"
   ]
  },
  {
   "cell_type": "code",
   "execution_count": null,
   "metadata": {
    "collapsed": false
   },
   "outputs": [],
   "source": [
    "# c) Try printing out a non-existent column.\n",
    "trainingData[\"test\"] \n"
   ]
  },
  {
   "cell_type": "code",
   "execution_count": null,
   "metadata": {
    "collapsed": false
   },
   "outputs": [],
   "source": [
    "# d) Try adding a Series say Alive/Dead to the DataFrame \n",
    "trainingData[\"Alive/Dead\"] = 'Dead'\n",
    "trainingData.head()"
   ]
  },
  {
   "cell_type": "code",
   "execution_count": null,
   "metadata": {
    "collapsed": false
   },
   "outputs": [],
   "source": [
    "aliveDead = Series([\"Alive\",\"Alive\"],index=[4,0])\n",
    "trainingData[\"Alive/Dead\"] = aliveDead\n",
    "trainingData.head()"
   ]
  },
  {
   "cell_type": "code",
   "execution_count": null,
   "metadata": {
    "collapsed": true
   },
   "outputs": [],
   "source": [
    "#      Example: \n",
    "#           stadiums = Series([\"Levi's Stadium\",\"AT&T Stadium\"],index=[4,0])\n",
    "#           nfl_frame['Stadium']=stadiums"
   ]
  },
  {
   "cell_type": "code",
   "execution_count": null,
   "metadata": {
    "collapsed": false
   },
   "outputs": [],
   "source": [
    "# e) Check what these return:\n",
    "#               1)type(trainingData) - note the datatype\n",
    "#               2)trainingData.info  - note the starting index\n",
    "type(trainingData)"
   ]
  },
  {
   "cell_type": "code",
   "execution_count": null,
   "metadata": {
    "collapsed": false
   },
   "outputs": [],
   "source": [
    "trainingData.info\n",
    "# f) Try out:\n",
    "#         1) M = trainingData.as_matrix()\n",
    "#         2) Check the datatype of M\n",
    "#         3) Print trainingData[0,0] and trainingData[0]\n",
    "#         4) Check the datatype of trainingData[0]\n",
    "# g) Try out:\n",
    "#         1) Print trainingData.iloc[0] \n",
    "#         2) Print trainingData.ix[0]\n",
    "#         3) Check the datatype of trainingData.ix[0] \n",
    "M = trainingData.as_matrix()\n",
    "type(M)"
   ]
  },
  {
   "cell_type": "markdown",
   "metadata": {},
   "source": [
    "## Check point ##\n",
    "\n",
    "Pandas is used to load the data from clipboard and also from file.\n",
    "\n",
    "Pandas - Series - can be thought of as column/row - 1D, DataFrame as a table - 2D.\n",
    "\n",
    "Pandas returns numpy arrays for us to manipulate.\n",
    "\n",
    "So, use pandas to load the data, convert it to Numpy Arrays for the manipulation.\n",
    "\n",
    "REMEMBER: DataFrame[0] - returns all values of  column '0'\n",
    "NumpyArray[0] - returns all values in the row '0'."
   ]
  }
 ],
 "metadata": {
  "anaconda-cloud": {},
  "kernelspec": {
   "display_name": "Python [conda root]",
   "language": "python",
   "name": "conda-root-py"
  },
  "language_info": {
   "codemirror_mode": {
    "name": "ipython",
    "version": 2
   },
   "file_extension": ".py",
   "mimetype": "text/x-python",
   "name": "python",
   "nbconvert_exporter": "python",
   "pygments_lexer": "ipython2",
   "version": "2.7.13"
  }
 },
 "nbformat": 4,
 "nbformat_minor": 1
}
